{
 "cells": [
  {
   "cell_type": "code",
   "execution_count": 25,
   "id": "104bf239",
   "metadata": {},
   "outputs": [],
   "source": [
    "import mysql.connector\n",
    "import pandas as pd\n",
    "from sklearn.linear_model import LogisticRegression\n",
    "from sklearn.model_selection import train_test_split\n",
    "from sklearn.preprocessing import StandardScaler\n",
    "import tensorflow as tf"
   ]
  },
  {
   "cell_type": "code",
   "execution_count": 39,
   "id": "06e8957a",
   "metadata": {},
   "outputs": [
    {
     "name": "stdout",
     "output_type": "stream",
     "text": [
      "Koneksi berhasil!\n"
     ]
    }
   ],
   "source": [
    "# connect python to database\n",
    "cn = mysql.connector.connect(user='root', password='', host='localhost', database='db_introvert')\n",
    "\n",
    "if cn.is_connected():\n",
    "    print(\"Koneksi berhasil!\")\n",
    "else:\n",
    "    print(\"Koneksi gagal!\")"
   ]
  },
  {
   "cell_type": "code",
   "execution_count": 27,
   "id": "4e315d7c",
   "metadata": {},
   "outputs": [],
   "source": [
    "#Read data (data sementara)\n",
    "df = pd.read_csv('data.csv')"
   ]
  },
  {
   "cell_type": "code",
   "execution_count": 28,
   "id": "e07dfc00",
   "metadata": {},
   "outputs": [],
   "source": [
    "#Drop data yang tidak diperlukan\n",
    "dfh = df.drop(['Timestamp'], axis=1)"
   ]
  },
  {
   "cell_type": "code",
   "execution_count": 29,
   "id": "10fc953c",
   "metadata": {},
   "outputs": [],
   "source": [
    "#Variabel x dan y\n",
    "X = dfh.iloc[:, 2:].values\n",
    "y = dfh.iloc[:, 1].values"
   ]
  },
  {
   "cell_type": "code",
   "execution_count": 30,
   "id": "5160bf44",
   "metadata": {},
   "outputs": [],
   "source": [
    "#data latih dan data uji\n",
    "X_train, X_test, y_train, y_test = train_test_split(X, y, test_size=0.2, random_state=42)"
   ]
  },
  {
   "cell_type": "code",
   "execution_count": 31,
   "id": "4ee4320e",
   "metadata": {},
   "outputs": [],
   "source": [
    "#melakukan scaler\n",
    "scaler = StandardScaler()\n",
    "X_train = scaler.fit_transform(X_train)\n",
    "X_test = scaler.transform(X_test)"
   ]
  },
  {
   "cell_type": "code",
   "execution_count": 32,
   "id": "c17b49c1",
   "metadata": {},
   "outputs": [],
   "source": [
    "#Model regresi Logistik\n",
    "model = tf.keras.Sequential([\n",
    "    tf.keras.layers.Dense(1, activation='sigmoid', input_shape=(X_train.shape[1],))\n",
    "])"
   ]
  },
  {
   "cell_type": "code",
   "execution_count": 33,
   "id": "ef852641",
   "metadata": {},
   "outputs": [],
   "source": [
    "model.compile(optimizer='adam', loss='binary_crossentropy', metrics=['accuracy'])"
   ]
  },
  {
   "cell_type": "code",
   "execution_count": 34,
   "id": "3a623b4e",
   "metadata": {},
   "outputs": [
    {
     "name": "stdout",
     "output_type": "stream",
     "text": [
      "Epoch 1/10\n",
      "5/5 [==============================] - 0s 2ms/step - loss: 0.8757 - accuracy: 0.0000e+00\n",
      "Epoch 2/10\n",
      "5/5 [==============================] - 0s 1ms/step - loss: 0.7329 - accuracy: 0.0000e+00\n",
      "Epoch 3/10\n",
      "5/5 [==============================] - 0s 1ms/step - loss: 0.6113 - accuracy: 0.0000e+00\n",
      "Epoch 4/10\n",
      "5/5 [==============================] - 0s 1ms/step - loss: 0.4952 - accuracy: 0.0000e+00\n",
      "Epoch 5/10\n",
      "5/5 [==============================] - 0s 1ms/step - loss: 0.3864 - accuracy: 0.0000e+00\n",
      "Epoch 6/10\n",
      "5/5 [==============================] - 0s 1ms/step - loss: 0.2769 - accuracy: 0.0000e+00\n",
      "Epoch 7/10\n",
      "5/5 [==============================] - 0s 1ms/step - loss: 0.1690 - accuracy: 0.0000e+00\n",
      "Epoch 8/10\n",
      "5/5 [==============================] - 0s 1ms/step - loss: 0.0558 - accuracy: 0.0000e+00\n",
      "Epoch 9/10\n",
      "5/5 [==============================] - 0s 941us/step - loss: -0.0586 - accuracy: 0.0000e+00\n",
      "Epoch 10/10\n",
      "5/5 [==============================] - 0s 1ms/step - loss: -0.1682 - accuracy: 0.0000e+00\n"
     ]
    },
    {
     "data": {
      "text/plain": [
       "<keras.callbacks.History at 0x18928d662d0>"
      ]
     },
     "execution_count": 34,
     "metadata": {},
     "output_type": "execute_result"
    }
   ],
   "source": [
    "model.fit(X_train, y_train, epochs=10, batch_size=16, verbose=1)"
   ]
  },
  {
   "cell_type": "code",
   "execution_count": 35,
   "id": "62fc87fc",
   "metadata": {
    "scrolled": false
   },
   "outputs": [
    {
     "name": "stdout",
     "output_type": "stream",
     "text": [
      "1/1 [==============================] - 0s 53ms/step\n"
     ]
    }
   ],
   "source": [
    "#Memprediksi label introvert\n",
    "y_pred = model.predict(X_test)"
   ]
  },
  {
   "cell_type": "code",
   "execution_count": 37,
   "id": "418cf772",
   "metadata": {},
   "outputs": [],
   "source": [
    "labeled_pred = [\"introvert 1\" if pred == 1 else \"introvert 2\" for pred in y_pred]"
   ]
  },
  {
   "cell_type": "code",
   "execution_count": 23,
   "id": "9d7ebe68",
   "metadata": {},
   "outputs": [
    {
     "name": "stdout",
     "output_type": "stream",
     "text": [
      "introvert 2\n",
      "introvert 2\n",
      "introvert 2\n",
      "introvert 2\n",
      "introvert 2\n",
      "introvert 2\n",
      "introvert 2\n",
      "introvert 2\n",
      "introvert 2\n",
      "introvert 2\n",
      "introvert 2\n",
      "introvert 2\n",
      "introvert 2\n",
      "introvert 2\n",
      "introvert 2\n",
      "introvert 2\n",
      "introvert 2\n",
      "introvert 2\n",
      "introvert 2\n",
      "introvert 2\n"
     ]
    }
   ],
   "source": [
    "#Menampilkan hasil\n",
    "for pred in labeled_pred:\n",
    "    print(pred)"
   ]
  },
  {
   "cell_type": "code",
   "execution_count": null,
   "id": "84bc3d55",
   "metadata": {},
   "outputs": [],
   "source": []
  }
 ],
 "metadata": {
  "kernelspec": {
   "display_name": "Python 3 (ipykernel)",
   "language": "python",
   "name": "python3"
  },
  "language_info": {
   "codemirror_mode": {
    "name": "ipython",
    "version": 3
   },
   "file_extension": ".py",
   "mimetype": "text/x-python",
   "name": "python",
   "nbconvert_exporter": "python",
   "pygments_lexer": "ipython3",
   "version": "3.11.1"
  }
 },
 "nbformat": 4,
 "nbformat_minor": 5
}
